{
 "cells": [
  {
   "cell_type": "markdown",
   "metadata": {},
   "source": [
    "# Assignment 1\n",
    "\n",
    "#### Objectives:\n",
    "1. Parse SRT Files to get drone locations\n",
    "2. Find Drone images close to drone locations "
   ]
  },
  {
   "cell_type": "code",
   "execution_count": 15,
   "metadata": {},
   "outputs": [],
   "source": [
    "from libs.srtparser import parse_srt\n",
    "\n",
    "import pandas as pd\n",
    "import exifread as ef\n",
    "import os \n",
    "import glob\n",
    "import piexif\n",
    "import numpy as  np\n",
    "from scipy.spatial import distance\n",
    "from math import radians, sin, cos, acos\n",
    "\n",
    "from PIL import Image\n",
    "from PIL.ExifTags import TAGS, GPSTAGS"
   ]
  },
  {
   "cell_type": "markdown",
   "metadata": {},
   "source": [
    "** Load the srt file **"
   ]
  },
  {
   "cell_type": "code",
   "execution_count": 2,
   "metadata": {},
   "outputs": [],
   "source": [
    "csv_file='videos/DJI_0301.SRT'\n"
   ]
  },
  {
   "cell_type": "code",
   "execution_count": 3,
   "metadata": {
    "scrolled": false
   },
   "outputs": [],
   "source": [
    "data=parse_srt(csv_file)\n",
    "times=[]\n",
    "coord_x=[]\n",
    "coord_y=[]\n",
    "coord_z=[]\n",
    "for d in data:\n",
    "    times.append(d['timestamp'])\n",
    "    x,y,z=[float(f) for f in d['subtitles'][0].split(',')]\n",
    "    coord_x.append(x)\n",
    "    coord_y.append(y)\n",
    "    coord_z.append(z)"
   ]
  },
  {
   "cell_type": "code",
   "execution_count": 4,
   "metadata": {},
   "outputs": [],
   "source": [
    "data_df=pd.DataFrame({'times':times,'longitude':coord_x,'latitude':coord_y})"
   ]
  },
  {
   "cell_type": "code",
   "execution_count": 5,
   "metadata": {},
   "outputs": [
    {
     "data": {
      "text/html": [
       "<div>\n",
       "<style scoped>\n",
       "    .dataframe tbody tr th:only-of-type {\n",
       "        vertical-align: middle;\n",
       "    }\n",
       "\n",
       "    .dataframe tbody tr th {\n",
       "        vertical-align: top;\n",
       "    }\n",
       "\n",
       "    .dataframe thead th {\n",
       "        text-align: right;\n",
       "    }\n",
       "</style>\n",
       "<table border=\"1\" class=\"dataframe\">\n",
       "  <thead>\n",
       "    <tr style=\"text-align: right;\">\n",
       "      <th></th>\n",
       "      <th>latitude</th>\n",
       "      <th>longitude</th>\n",
       "      <th>times</th>\n",
       "    </tr>\n",
       "  </thead>\n",
       "  <tbody>\n",
       "    <tr>\n",
       "      <th>0</th>\n",
       "      <td>19.149799</td>\n",
       "      <td>73.001358</td>\n",
       "      <td>00:00:00,100 --&gt; 00:00:00,200</td>\n",
       "    </tr>\n",
       "    <tr>\n",
       "      <th>1</th>\n",
       "      <td>19.150096</td>\n",
       "      <td>73.001330</td>\n",
       "      <td>00:00:00,200 --&gt; 00:00:00,300</td>\n",
       "    </tr>\n",
       "    <tr>\n",
       "      <th>2</th>\n",
       "      <td>19.150143</td>\n",
       "      <td>73.001331</td>\n",
       "      <td>00:00:00,300 --&gt; 00:00:00,400</td>\n",
       "    </tr>\n",
       "    <tr>\n",
       "      <th>3</th>\n",
       "      <td>19.150177</td>\n",
       "      <td>73.001331</td>\n",
       "      <td>00:00:00,400 --&gt; 00:00:00,500</td>\n",
       "    </tr>\n",
       "    <tr>\n",
       "      <th>4</th>\n",
       "      <td>19.150217</td>\n",
       "      <td>73.001324</td>\n",
       "      <td>00:00:00,500 --&gt; 00:00:00,600</td>\n",
       "    </tr>\n",
       "  </tbody>\n",
       "</table>\n",
       "</div>"
      ],
      "text/plain": [
       "    latitude  longitude                          times\n",
       "0  19.149799  73.001358  00:00:00,100 --> 00:00:00,200\n",
       "1  19.150096  73.001330  00:00:00,200 --> 00:00:00,300\n",
       "2  19.150143  73.001331  00:00:00,300 --> 00:00:00,400\n",
       "3  19.150177  73.001331  00:00:00,400 --> 00:00:00,500\n",
       "4  19.150217  73.001324  00:00:00,500 --> 00:00:00,600"
      ]
     },
     "execution_count": 5,
     "metadata": {},
     "output_type": "execute_result"
    }
   ],
   "source": [
    "data_df.head()"
   ]
  },
  {
   "cell_type": "markdown",
   "metadata": {},
   "source": [
    "** Gather coordinate values from images **"
   ]
  },
  {
   "cell_type": "code",
   "execution_count": 22,
   "metadata": {},
   "outputs": [],
   "source": [
    "image_dir='images/'"
   ]
  },
  {
   "cell_type": "code",
   "execution_count": 23,
   "metadata": {},
   "outputs": [],
   "source": [
    "imagefile_list=glob.glob(os.path.join(image_dir,'*.JPG'))\n",
    "image_names=[]\n",
    "coord_x=[]\n",
    "coord_y=[]"
   ]
  },
  {
   "cell_type": "code",
   "execution_count": 24,
   "metadata": {},
   "outputs": [],
   "source": [
    "def get_exif_data(image):\n",
    "    \"\"\"Returns a dictionary from the exif data of an PIL Image item. Also converts the GPS Tags\"\"\"\n",
    "    exif_data = {}\n",
    "    info = image._getexif()\n",
    "    if info:\n",
    "        for tag, value in info.items():\n",
    "            decoded = TAGS.get(tag, tag)\n",
    "            if decoded == \"GPSInfo\":\n",
    "                gps_data = {}\n",
    "                for t in value:\n",
    "                    sub_decoded = GPSTAGS.get(t, t)\n",
    "                    gps_data[sub_decoded] = value[t]\n",
    "\n",
    "                exif_data[decoded] = gps_data\n",
    "            else:\n",
    "                exif_data[decoded] = value\n",
    "\n",
    "    return exif_data\n",
    "\n",
    "def _get_if_exist(data, key):\n",
    "    if key in data:\n",
    "        return data[key]\n",
    "\t\t\n",
    "    return None\n",
    "\t\n",
    "def _convert_to_degress(value):\n",
    "    \"\"\"Helper function to convert the GPS coordinates stored in the EXIF to degress in float format\"\"\"\n",
    "    d0 = value[0][0]\n",
    "    d1 = value[0][1]\n",
    "    d = float(d0) / float(d1)\n",
    "\n",
    "    m0 = value[1][0]\n",
    "    m1 = value[1][1]\n",
    "    m = float(m0) / float(m1)\n",
    "\n",
    "    s0 = value[2][0]\n",
    "    s1 = value[2][1]\n",
    "    s = float(s0) / float(s1)\n",
    "\n",
    "    return d + (m / 60.0) + (s / 3600.0)\n",
    "\n",
    "def get_lat_lon(exif_data):\n",
    "    \"\"\"Returns the latitude and longitude, if available, from the provided exif_data (obtained through get_exif_data above)\"\"\"\n",
    "    lat = None\n",
    "    lon = None\n",
    "\n",
    "    if \"GPSInfo\" in exif_data:\t\t\n",
    "        gps_info = exif_data[\"GPSInfo\"]\n",
    "\n",
    "        gps_latitude = _get_if_exist(gps_info, \"GPSLatitude\")\n",
    "        gps_latitude_ref = _get_if_exist(gps_info, 'GPSLatitudeRef')\n",
    "        gps_longitude = _get_if_exist(gps_info, 'GPSLongitude')\n",
    "        gps_longitude_ref = _get_if_exist(gps_info, 'GPSLongitudeRef')\n",
    "\n",
    "        if gps_latitude and gps_latitude_ref and gps_longitude and gps_longitude_ref:\n",
    "            lat = _convert_to_degress(gps_latitude)\n",
    "            if gps_latitude_ref != \"N\":                     \n",
    "                lat = 0 - lat\n",
    "\n",
    "            lon = _convert_to_degress(gps_longitude)\n",
    "            if gps_longitude_ref != \"E\":\n",
    "                lon = 0 - lon\n",
    "\n",
    "    return lat, lon"
   ]
  },
  {
   "cell_type": "code",
   "execution_count": 25,
   "metadata": {},
   "outputs": [],
   "source": [
    "for f in imagefile_list:\n",
    "    exif_data=get_exif_data(Image.open(f))\n",
    "    lat,lon=get_lat_lon(exif_data)\n",
    "    coord_x.append(lon)\n",
    "    coord_y.append(lat)\n",
    "    image_names.append(os.path.basename(f))"
   ]
  },
  {
   "cell_type": "code",
   "execution_count": 26,
   "metadata": {},
   "outputs": [],
   "source": [
    "image_df=pd.DataFrame({'image':image_names,'longitude':coord_x,'latitude':coord_y})"
   ]
  },
  {
   "cell_type": "code",
   "execution_count": 27,
   "metadata": {},
   "outputs": [
    {
     "data": {
      "text/html": [
       "<div>\n",
       "<style scoped>\n",
       "    .dataframe tbody tr th:only-of-type {\n",
       "        vertical-align: middle;\n",
       "    }\n",
       "\n",
       "    .dataframe tbody tr th {\n",
       "        vertical-align: top;\n",
       "    }\n",
       "\n",
       "    .dataframe thead th {\n",
       "        text-align: right;\n",
       "    }\n",
       "</style>\n",
       "<table border=\"1\" class=\"dataframe\">\n",
       "  <thead>\n",
       "    <tr style=\"text-align: right;\">\n",
       "      <th></th>\n",
       "      <th>image</th>\n",
       "      <th>latitude</th>\n",
       "      <th>longitude</th>\n",
       "    </tr>\n",
       "  </thead>\n",
       "  <tbody>\n",
       "    <tr>\n",
       "      <th>0</th>\n",
       "      <td>DJI_0143.JPG</td>\n",
       "      <td>19.151222</td>\n",
       "      <td>73.002145</td>\n",
       "    </tr>\n",
       "    <tr>\n",
       "      <th>1</th>\n",
       "      <td>DJI_0208.JPG</td>\n",
       "      <td>19.152031</td>\n",
       "      <td>73.000799</td>\n",
       "    </tr>\n",
       "    <tr>\n",
       "      <th>2</th>\n",
       "      <td>DJI_0111.JPG</td>\n",
       "      <td>19.150955</td>\n",
       "      <td>73.002128</td>\n",
       "    </tr>\n",
       "    <tr>\n",
       "      <th>3</th>\n",
       "      <td>DJI_0263.JPG</td>\n",
       "      <td>19.152560</td>\n",
       "      <td>73.001064</td>\n",
       "    </tr>\n",
       "    <tr>\n",
       "      <th>4</th>\n",
       "      <td>DJI_0447.JPG</td>\n",
       "      <td>19.154169</td>\n",
       "      <td>73.001840</td>\n",
       "    </tr>\n",
       "  </tbody>\n",
       "</table>\n",
       "</div>"
      ],
      "text/plain": [
       "          image   latitude  longitude\n",
       "0  DJI_0143.JPG  19.151222  73.002145\n",
       "1  DJI_0208.JPG  19.152031  73.000799\n",
       "2  DJI_0111.JPG  19.150955  73.002128\n",
       "3  DJI_0263.JPG  19.152560  73.001064\n",
       "4  DJI_0447.JPG  19.154169  73.001840"
      ]
     },
     "execution_count": 27,
     "metadata": {},
     "output_type": "execute_result"
    }
   ],
   "source": [
    "image_df.head()"
   ]
  },
  {
   "cell_type": "markdown",
   "metadata": {},
   "source": [
    "** All latitide and longitudes in images seem to be rounded to the lowest decimal! **"
   ]
  },
  {
   "cell_type": "markdown",
   "metadata": {},
   "source": [
    "** Find all given images for all given rows **"
   ]
  },
  {
   "cell_type": "code",
   "execution_count": 30,
   "metadata": {},
   "outputs": [],
   "source": [
    "def distance(slat,elat,slon,elon):\n",
    "    slat,elat,slon,elon=radians(slat),radians(elat),radians(slon),radians(elon)\n",
    "    dist = 6371.01 * acos(sin(slat)*sin(elat) + cos(slat)*cos(elat)*cos(slon - elon))\n",
    "    return dist*1000 #Convert to meters"
   ]
  },
  {
   "cell_type": "code",
   "execution_count": 39,
   "metadata": {},
   "outputs": [],
   "source": [
    "image_list=image_df['image']\n",
    "image_longitude=image_df['longitude']\n",
    "image_latitude=image_df['latitude']\n",
    "distances_all=[]\n",
    "all_close_images=[]\n",
    "for index,row in data_df.iterrows():\n",
    "    slat=row['latitude']\n",
    "    slon=row['longitude']\n",
    "    images=[]\n",
    "    for i in range(0,len(image_latitude)):\n",
    "        elat=image_latitude[i]\n",
    "        elon=image_longitude[i]\n",
    "        dist=distance(slat,elat,slon,elon)\n",
    "        distances_all.append(dist)\n",
    "        if(dist<35):\n",
    "            images.append(os.path.basename(image_list[i]))\n",
    "    images=', '.join(images)\n",
    "    all_close_images.append(images)"
   ]
  },
  {
   "cell_type": "code",
   "execution_count": 40,
   "metadata": {},
   "outputs": [],
   "source": [
    "data_df['images']=all_close_images"
   ]
  },
  {
   "cell_type": "code",
   "execution_count": 41,
   "metadata": {},
   "outputs": [
    {
     "data": {
      "text/html": [
       "<div>\n",
       "<style scoped>\n",
       "    .dataframe tbody tr th:only-of-type {\n",
       "        vertical-align: middle;\n",
       "    }\n",
       "\n",
       "    .dataframe tbody tr th {\n",
       "        vertical-align: top;\n",
       "    }\n",
       "\n",
       "    .dataframe thead th {\n",
       "        text-align: right;\n",
       "    }\n",
       "</style>\n",
       "<table border=\"1\" class=\"dataframe\">\n",
       "  <thead>\n",
       "    <tr style=\"text-align: right;\">\n",
       "      <th></th>\n",
       "      <th>latitude</th>\n",
       "      <th>longitude</th>\n",
       "      <th>times</th>\n",
       "      <th>images</th>\n",
       "    </tr>\n",
       "  </thead>\n",
       "  <tbody>\n",
       "    <tr>\n",
       "      <th>0</th>\n",
       "      <td>19.149799</td>\n",
       "      <td>73.001358</td>\n",
       "      <td>00:00:00,100 --&gt; 00:00:00,200</td>\n",
       "      <td>DJI_0013.JPG, DJI_0011.JPG, DJI_0012.JPG, DJI_...</td>\n",
       "    </tr>\n",
       "    <tr>\n",
       "      <th>1</th>\n",
       "      <td>19.150096</td>\n",
       "      <td>73.001330</td>\n",
       "      <td>00:00:00,200 --&gt; 00:00:00,300</td>\n",
       "      <td>DJI_0047.JPG, DJI_0049.JPG, DJI_0011.JPG, DJI_...</td>\n",
       "    </tr>\n",
       "    <tr>\n",
       "      <th>2</th>\n",
       "      <td>19.150143</td>\n",
       "      <td>73.001331</td>\n",
       "      <td>00:00:00,300 --&gt; 00:00:00,400</td>\n",
       "      <td>DJI_0047.JPG, DJI_0049.JPG, DJI_0011.JPG, DJI_...</td>\n",
       "    </tr>\n",
       "    <tr>\n",
       "      <th>3</th>\n",
       "      <td>19.150177</td>\n",
       "      <td>73.001331</td>\n",
       "      <td>00:00:00,400 --&gt; 00:00:00,500</td>\n",
       "      <td>DJI_0047.JPG, DJI_0057.JPG, DJI_0049.JPG, DJI_...</td>\n",
       "    </tr>\n",
       "    <tr>\n",
       "      <th>4</th>\n",
       "      <td>19.150217</td>\n",
       "      <td>73.001324</td>\n",
       "      <td>00:00:00,500 --&gt; 00:00:00,600</td>\n",
       "      <td>DJI_0047.JPG, DJI_0057.JPG, DJI_0049.JPG, DJI_...</td>\n",
       "    </tr>\n",
       "  </tbody>\n",
       "</table>\n",
       "</div>"
      ],
      "text/plain": [
       "    latitude  longitude                          times  \\\n",
       "0  19.149799  73.001358  00:00:00,100 --> 00:00:00,200   \n",
       "1  19.150096  73.001330  00:00:00,200 --> 00:00:00,300   \n",
       "2  19.150143  73.001331  00:00:00,300 --> 00:00:00,400   \n",
       "3  19.150177  73.001331  00:00:00,400 --> 00:00:00,500   \n",
       "4  19.150217  73.001324  00:00:00,500 --> 00:00:00,600   \n",
       "\n",
       "                                              images  \n",
       "0  DJI_0013.JPG, DJI_0011.JPG, DJI_0012.JPG, DJI_...  \n",
       "1  DJI_0047.JPG, DJI_0049.JPG, DJI_0011.JPG, DJI_...  \n",
       "2  DJI_0047.JPG, DJI_0049.JPG, DJI_0011.JPG, DJI_...  \n",
       "3  DJI_0047.JPG, DJI_0057.JPG, DJI_0049.JPG, DJI_...  \n",
       "4  DJI_0047.JPG, DJI_0057.JPG, DJI_0049.JPG, DJI_...  "
      ]
     },
     "execution_count": 41,
     "metadata": {},
     "output_type": "execute_result"
    }
   ],
   "source": [
    "data_df.head()"
   ]
  },
  {
   "cell_type": "markdown",
   "metadata": {},
   "source": [
    "** Save to CSV **"
   ]
  },
  {
   "cell_type": "code",
   "execution_count": 43,
   "metadata": {},
   "outputs": [],
   "source": [
    "data_df.loc[:,['times','images']].to_csv('output/image_in_35m.csv')"
   ]
  },
  {
   "cell_type": "markdown",
   "metadata": {},
   "source": [
    "** Times when it is close to specific places **"
   ]
  },
  {
   "cell_type": "code",
   "execution_count": 45,
   "metadata": {},
   "outputs": [],
   "source": [
    "POI=pd.read_csv('assets.csv')"
   ]
  },
  {
   "cell_type": "code",
   "execution_count": 46,
   "metadata": {},
   "outputs": [
    {
     "data": {
      "text/html": [
       "<div>\n",
       "<style scoped>\n",
       "    .dataframe tbody tr th:only-of-type {\n",
       "        vertical-align: middle;\n",
       "    }\n",
       "\n",
       "    .dataframe tbody tr th {\n",
       "        vertical-align: top;\n",
       "    }\n",
       "\n",
       "    .dataframe thead th {\n",
       "        text-align: right;\n",
       "    }\n",
       "</style>\n",
       "<table border=\"1\" class=\"dataframe\">\n",
       "  <thead>\n",
       "    <tr style=\"text-align: right;\">\n",
       "      <th></th>\n",
       "      <th>asset_name</th>\n",
       "      <th>longitude</th>\n",
       "      <th>latitude</th>\n",
       "      <th>image_names</th>\n",
       "    </tr>\n",
       "  </thead>\n",
       "  <tbody>\n",
       "    <tr>\n",
       "      <th>0</th>\n",
       "      <td>Parking lot 7</td>\n",
       "      <td>73.004950</td>\n",
       "      <td>19.152112</td>\n",
       "      <td>NaN</td>\n",
       "    </tr>\n",
       "    <tr>\n",
       "      <th>1</th>\n",
       "      <td>Recreation centre</td>\n",
       "      <td>73.003523</td>\n",
       "      <td>19.152196</td>\n",
       "      <td>NaN</td>\n",
       "    </tr>\n",
       "    <tr>\n",
       "      <th>2</th>\n",
       "      <td>Canteen</td>\n",
       "      <td>73.003523</td>\n",
       "      <td>19.152196</td>\n",
       "      <td>NaN</td>\n",
       "    </tr>\n",
       "    <tr>\n",
       "      <th>3</th>\n",
       "      <td>Indoor heated swimming pool</td>\n",
       "      <td>73.003523</td>\n",
       "      <td>19.152343</td>\n",
       "      <td>NaN</td>\n",
       "    </tr>\n",
       "  </tbody>\n",
       "</table>\n",
       "</div>"
      ],
      "text/plain": [
       "                    asset_name  longitude   latitude  image_names\n",
       "0                Parking lot 7  73.004950  19.152112          NaN\n",
       "1            Recreation centre  73.003523  19.152196          NaN\n",
       "2                      Canteen  73.003523  19.152196          NaN\n",
       "3  Indoor heated swimming pool  73.003523  19.152343          NaN"
      ]
     },
     "execution_count": 46,
     "metadata": {},
     "output_type": "execute_result"
    }
   ],
   "source": [
    "POI"
   ]
  },
  {
   "cell_type": "code",
   "execution_count": 60,
   "metadata": {},
   "outputs": [],
   "source": [
    "images_in_50=[]\n",
    "for index,row in POI.iterrows():\n",
    "    images=[]\n",
    "    s_lon=row['longitude']\n",
    "    s_lat=row['latitude']\n",
    "    for i in range(0,len(image_latitude)):\n",
    "        elat=image_latitude[i]\n",
    "        elon=image_longitude[i]\n",
    "        dist=distance(slat,elat,slon,elon)\n",
    "        if(dist<50):\n",
    "            images.append(image_list[i])\n",
    "    images=', '.join(images)\n",
    "    images_in_50.append(images)"
   ]
  },
  {
   "cell_type": "code",
   "execution_count": 61,
   "metadata": {},
   "outputs": [
    {
     "data": {
      "text/plain": [
       "['', '', '', '']"
      ]
     },
     "execution_count": 61,
     "metadata": {},
     "output_type": "execute_result"
    }
   ],
   "source": [
    "images_in_50"
   ]
  },
  {
   "cell_type": "markdown",
   "metadata": {},
   "source": [
    "** No images in range found hence avoiding saving **"
   ]
  }
 ],
 "metadata": {
  "kernelspec": {
   "display_name": "Python 3",
   "language": "python",
   "name": "python3"
  },
  "language_info": {
   "codemirror_mode": {
    "name": "ipython",
    "version": 3
   },
   "file_extension": ".py",
   "mimetype": "text/x-python",
   "name": "python",
   "nbconvert_exporter": "python",
   "pygments_lexer": "ipython3",
   "version": "3.6.4"
  }
 },
 "nbformat": 4,
 "nbformat_minor": 2
}
